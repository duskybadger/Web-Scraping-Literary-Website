{
 "cells": [
  {
   "cell_type": "markdown",
   "metadata": {},
   "source": [
    "Pick a website and describe your objective"
   ]
  },
  {
   "cell_type": "markdown",
   "metadata": {},
   "source": [
    "### Project Outline\n",
    "\n",
    "- We're going to scrape https://www.gutenberg.org/\n",
    "- We'll get a list of famous literary books."
   ]
  },
  {
   "cell_type": "code",
   "execution_count": 1,
   "metadata": {},
   "outputs": [],
   "source": [
    "import urllib.request, urllib.parse, urllib.error\n",
    "import requests\n",
    "from bs4 import BeautifulSoup\n",
    "import ssl\n",
    "import re"
   ]
  },
  {
   "cell_type": "markdown",
   "metadata": {},
   "source": [
    "Use the requests library to download web pages"
   ]
  },
  {
   "cell_type": "markdown",
   "metadata": {},
   "source": [
    "- Inspect the website's HTML source and identify the right URLs to download\n",
    "- Download and save web pages locally using the requests library\n",
    "- Create a function to automate downloading for different topics/search queries"
   ]
  },
  {
   "cell_type": "code",
   "execution_count": 4,
   "metadata": {},
   "outputs": [],
   "source": [
    "top100url = 'https://www.gutenberg.org/browse/scores/top'"
   ]
  },
  {
   "cell_type": "code",
   "execution_count": 5,
   "metadata": {},
   "outputs": [],
   "source": [
    "response = requests.get(top100url)"
   ]
  },
  {
   "cell_type": "code",
   "execution_count": null,
   "metadata": {},
   "outputs": [],
   "source": []
  },
  {
   "cell_type": "markdown",
   "metadata": {},
   "source": [
    "Use Beautiful Soup to parse and extract information"
   ]
  },
  {
   "cell_type": "markdown",
   "metadata": {},
   "source": [
    "- Parse and explore the structure of downloaded web pages using Beautiful Soup\n",
    "- Use the right properties and methods to extract the required information\n",
    "- Create functions to extract from the page into lists and dictionaries\n",
    "- (Optional) Use a REST API to acquire additional information"
   ]
  },
  {
   "cell_type": "code",
   "execution_count": 6,
   "metadata": {},
   "outputs": [],
   "source": [
    "contents = response.content.decode(response.encoding)"
   ]
  },
  {
   "cell_type": "code",
   "execution_count": 7,
   "metadata": {},
   "outputs": [],
   "source": [
    "soup = BeautifulSoup(contents, 'html.parser')"
   ]
  },
  {
   "cell_type": "code",
   "execution_count": 9,
   "metadata": {},
   "outputs": [],
   "source": [
    "def status_check(r):\n",
    "    if r.status_code==200:\n",
    "        print('Success!')\n",
    "        return 1\n",
    "    else:\n",
    "        print('Failed!')\n",
    "        return -1"
   ]
  },
  {
   "cell_type": "code",
   "execution_count": 10,
   "metadata": {},
   "outputs": [
    {
     "name": "stdout",
     "output_type": "stream",
     "text": [
      "Success!\n"
     ]
    },
    {
     "data": {
      "text/plain": [
       "1"
      ]
     },
     "execution_count": 10,
     "metadata": {},
     "output_type": "execute_result"
    }
   ],
   "source": [
    "status_check(response)"
   ]
  },
  {
   "cell_type": "code",
   "execution_count": 11,
   "metadata": {},
   "outputs": [],
   "source": [
    "lst_links = []\n",
    "for link in soup.find_all('a'):\n",
    "    lst_links.append(link.get('href'))"
   ]
  },
  {
   "cell_type": "code",
   "execution_count": 12,
   "metadata": {},
   "outputs": [
    {
     "data": {
      "text/plain": [
       "['/',\n",
       " '/about/',\n",
       " '/about/',\n",
       " '/policy/collection_development.html',\n",
       " '/about/contact_information.html',\n",
       " '/about/background/',\n",
       " '/policy/permission.html',\n",
       " '/policy/privacy_policy.html',\n",
       " '/policy/terms_of_use.html',\n",
       " '/ebooks/',\n",
       " '/ebooks/',\n",
       " '/ebooks/bookshelf/',\n",
       " '/browse/scores/top',\n",
       " '/ebooks/offline_catalogs.html',\n",
       " '/help/',\n",
       " '/help/',\n",
       " '/help/copyright.html',\n",
       " '/help/errata.html',\n",
       " '/help/file_formats.html',\n",
       " '/help/faq.html',\n",
       " '/policy/',\n",
       " '/help/public_domain_ebook_submission.html',\n",
       " '/help/submitting_your_own_work.html',\n",
       " '/help/mobile.html',\n",
       " '/attic/',\n",
       " '/donate/',\n",
       " '/donate/',\n",
       " '#books-last1',\n",
       " '#authors-last1',\n",
       " '#books-last7']"
      ]
     },
     "execution_count": 12,
     "metadata": {},
     "output_type": "execute_result"
    }
   ],
   "source": [
    "lst_links[:30]"
   ]
  },
  {
   "cell_type": "code",
   "execution_count": 18,
   "metadata": {},
   "outputs": [],
   "source": [
    "lst_titles_temp=[]"
   ]
  },
  {
   "cell_type": "code",
   "execution_count": 19,
   "metadata": {},
   "outputs": [],
   "source": [
    "start_idx = soup.text.splitlines().index('Top 100 EBooks yesterday')"
   ]
  },
  {
   "cell_type": "code",
   "execution_count": 20,
   "metadata": {},
   "outputs": [],
   "source": [
    "for i in range(100):\n",
    "    lst_titles_temp.append(soup.text.splitlines()[start_idx+2+i])"
   ]
  },
  {
   "cell_type": "code",
   "execution_count": 21,
   "metadata": {},
   "outputs": [],
   "source": [
    "lst_titles = []\n",
    "for i in range(100):\n",
    "    id1,id2=re.match('^[a-zA-Z ]*',lst_titles_temp[i]).span()\n",
    "    lst_titles.append(lst_titles_temp[i][id1:id2])"
   ]
  },
  {
   "cell_type": "code",
   "execution_count": 22,
   "metadata": {},
   "outputs": [
    {
     "name": "stdout",
     "output_type": "stream",
     "text": [
      "Top \n",
      "Top \n",
      "Top \n",
      "Top \n",
      "\n",
      "\n",
      "Top \n",
      "\n",
      "Frankenstein\n",
      "Pride and Prejudice by Jane Austen \n",
      "The Scarlet Letter by Nathaniel Hawthorne \n",
      "A Christmas Carol in Prose\n",
      "Alice\n",
      "Dracula by Bram Stoker \n",
      "The Picture of Dorian Gray by Oscar Wilde \n",
      "A Modest Proposal by Jonathan Swift \n",
      "A Doll\n",
      "Moby Dick\n",
      "The Importance of Being Earnest\n",
      "The Strange Case of Dr\n",
      "The Great Gatsby by F\n",
      "A Tale of Two Cities by Charles Dickens \n",
      "Jane Eyre\n",
      "The Adventures of Sherlock Holmes by Arthur Conan Doyle \n",
      "Heart of Darkness by Joseph Conrad \n",
      "Narrative of the Life of Frederick Douglass\n",
      "The Wolfe of Badenoch by Thomas Dick\n",
      "The Yellow Wallpaper by Charlotte Perkins Gilman \n",
      "The Prince by Niccol\n",
      "Metamorphosis by Franz Kafka \n",
      "Walden\n",
      "Old Granny Fox by Thornton W\n",
      "Adventures of Huckleberry Finn by Mark Twain \n",
      "Crime and Punishment by Fyodor Dostoyevsky \n",
      "The Awakening\n",
      "Anthem by Ayn Rand \n",
      "The Odyssey by Homer \n",
      "Great Expectations by Charles Dickens \n",
      "Grimms\n",
      "Next Stop\n",
      "The Life of the Caterpillar by Jean\n",
      "The Adventures of Tom Sawyer\n",
      "The Hound of the Baskervilles by Arthur Conan Doyle \n",
      "Peter Pan by J\n",
      "The Iliad by Homer \n",
      "Dubliners by James Joyce \n",
      "Little Women by Louisa May Alcott \n",
      "The Souls of Black Folk by W\n",
      "Tractatus Logico\n",
      "The Wonderful Wizard of Oz by L\n",
      "The Youngest Girl in the School by Evelyn Sharp \n",
      "The Happy Prince\n",
      "We Run From the Hunted\n",
      "Don Quixote by Miguel de Cervantes Saavedra \n",
      "Pygmalion by Bernard Shaw \n",
      "Ulysses by James Joyce \n",
      "Japanese Girls and Women by Alice Mabel Bacon \n",
      "The Legend of Sleepy Hollow by Washington Irving \n",
      "The American Diary of a Japanese Girl by Yon\n",
      "War and Peace by graf Leo Tolstoy \n",
      "Poems by T\n",
      "The Call of the Wild by Jack London \n",
      "The Interesting Narrative of the Life of Olaudah Equiano\n",
      "Nick Carter Stories No \n",
      "Anne of Green Gables by L\n",
      "Siddhartha by Hermann Hesse \n",
      "Uncle Tom\n",
      "Essays of Michel de Montaigne \n",
      "Leviathan by Thomas Hobbes \n",
      "Wuthering Heights by Emily Bront\n",
      "The Count of Monte Cristo\n",
      "Second Treatise of Government by John Locke \n",
      "The Prophet by Kahlil Gibran \n",
      "The Time Machine by H\n",
      "Treasure Island by Robert Louis Stevenson \n",
      "Nick Carter Stories No \n",
      "Beowulf\n",
      "The War of the Worlds by H\n",
      "The Brothers Karamazov by Fyodor Dostoyevsky \n",
      "Incidents in the Life of a Slave Girl\n",
      "The Witness of the Stars by E\n",
      "Emma by Jane Austen \n",
      "Andersen\n",
      "Gulliver\n",
      "Les Mis\n",
      "Ethan Frome by Edith Wharton \n",
      "Anna Karenina by graf Leo Tolstoy \n",
      "The Jungle by Upton Sinclair \n",
      "The Romance of Lust\n",
      "The King in Yellow by Robert W\n",
      "The Republic by Plato \n",
      "Animal Life in Field and Garden by Florence Constable Bicknell and Jean\n",
      "The Works of Edgar Allan Poe \n",
      "A Pickle for the Knowing Ones by Timothy Dexter \n",
      "Autobiography of Benjamin Franklin by Benjamin Franklin \n",
      "A Study in Scarlet by Arthur Conan Doyle \n",
      "The Communist Manifesto by Friedrich Engels and Karl Marx \n",
      "Carmilla by Joseph Sheridan Le Fanu \n",
      "Candide by Voltaire \n",
      "The Philippines a Century Hence by Jos\n"
     ]
    }
   ],
   "source": [
    "for l in lst_titles:\n",
    "    print(l)"
   ]
  },
  {
   "cell_type": "code",
   "execution_count": null,
   "metadata": {},
   "outputs": [],
   "source": []
  },
  {
   "cell_type": "code",
   "execution_count": null,
   "metadata": {},
   "outputs": [],
   "source": []
  },
  {
   "cell_type": "code",
   "execution_count": null,
   "metadata": {},
   "outputs": [],
   "source": []
  },
  {
   "cell_type": "code",
   "execution_count": null,
   "metadata": {},
   "outputs": [],
   "source": []
  },
  {
   "cell_type": "code",
   "execution_count": null,
   "metadata": {},
   "outputs": [],
   "source": []
  },
  {
   "cell_type": "markdown",
   "metadata": {},
   "source": [
    "Create CSV file(s) with the extracted information"
   ]
  },
  {
   "cell_type": "markdown",
   "metadata": {},
   "source": [
    "- Create functions for the end-to-end process of downloading, parsing and saving CSVs\n",
    "- Execute the function with different inputs to create a dataset of CSV files\n",
    "- Verify the information in the CSV files by reading them back using Pandas"
   ]
  },
  {
   "cell_type": "code",
   "execution_count": null,
   "metadata": {},
   "outputs": [],
   "source": []
  },
  {
   "cell_type": "code",
   "execution_count": null,
   "metadata": {},
   "outputs": [],
   "source": []
  },
  {
   "cell_type": "code",
   "execution_count": null,
   "metadata": {},
   "outputs": [],
   "source": []
  },
  {
   "cell_type": "markdown",
   "metadata": {},
   "source": [
    "Document and share your work"
   ]
  },
  {
   "cell_type": "markdown",
   "metadata": {},
   "source": [
    "- Add proper headings and documentation in your Jupyter notebook\n",
    "- Publish your Jupyter notebook to your Github portfolio\n",
    "- (Optional) Write a blog post about your project and share it online"
   ]
  },
  {
   "cell_type": "code",
   "execution_count": null,
   "metadata": {},
   "outputs": [],
   "source": []
  }
 ],
 "metadata": {
  "kernelspec": {
   "display_name": "Python 3",
   "language": "python",
   "name": "python3"
  },
  "language_info": {
   "codemirror_mode": {
    "name": "ipython",
    "version": 3
   },
   "file_extension": ".py",
   "mimetype": "text/x-python",
   "name": "python",
   "nbconvert_exporter": "python",
   "pygments_lexer": "ipython3",
   "version": "3.8.5"
  }
 },
 "nbformat": 4,
 "nbformat_minor": 4
}
